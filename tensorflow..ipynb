from skelearn.datasets import load_iris
iris = load_iris()

print(iris.data)


print(iris.target)

print(iris.target_names)

print(iris.data.shape)
print(iris.target.shape)

from sklearn.neighbors import KNeighborsClassifier
knn = KNeighborsClassifier(n_neighbors=1)

knn.fit(x,y)


bolsa_familia = pd.read(csv('201901_BolsaFamilia_Pagamentos')

